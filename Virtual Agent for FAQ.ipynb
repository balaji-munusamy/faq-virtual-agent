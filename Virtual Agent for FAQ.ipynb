{
 "cells": [
  {
   "cell_type": "markdown",
   "id": "9010df09",
   "metadata": {},
   "source": [
    "###  Virtual Agent for Frequently Asked Questions"
   ]
  },
  {
   "cell_type": "markdown",
   "id": "1fd7c931",
   "metadata": {},
   "source": [
    "Building Virtual Agent that understands the semantics of user utterances has become simple with transformers based models out there and with the support of large collection of open-source libraries"
   ]
  },
  {
   "cell_type": "markdown",
   "id": "d2b162ca",
   "metadata": {},
   "source": [
    "###### Import libraries for data analysis"
   ]
  },
  {
   "cell_type": "code",
   "execution_count": 1,
   "id": "71f71fc8",
   "metadata": {},
   "outputs": [],
   "source": [
    "import numpy as np\n",
    "import pandas as pd"
   ]
  },
  {
   "cell_type": "markdown",
   "id": "73889e23",
   "metadata": {},
   "source": [
    "###### Import libraries for text mining"
   ]
  },
  {
   "cell_type": "code",
   "execution_count": 2,
   "id": "01c483b4",
   "metadata": {},
   "outputs": [],
   "source": [
    "from lingualytics.preprocessing import remove_lessthan, remove_punctuation, remove_stopwords\n",
    "from lingualytics.stopwords import en_stopwords\n",
    "from texthero.preprocessing import remove_digits"
   ]
  },
  {
   "cell_type": "markdown",
   "id": "726c4c3a",
   "metadata": {},
   "source": [
    "###### Import libraries for transformers"
   ]
  },
  {
   "cell_type": "code",
   "execution_count": 3,
   "id": "ee002709",
   "metadata": {},
   "outputs": [],
   "source": [
    "from sentence_transformers import SentenceTransformer"
   ]
  },
  {
   "cell_type": "markdown",
   "id": "78717b0e",
   "metadata": {},
   "source": [
    "###### Import libraries for computing similarities"
   ]
  },
  {
   "cell_type": "code",
   "execution_count": 4,
   "id": "01d2cc89",
   "metadata": {},
   "outputs": [],
   "source": [
    "from torch.nn import CosineSimilarity\n",
    "import torch"
   ]
  },
  {
   "cell_type": "markdown",
   "id": "699938a8",
   "metadata": {},
   "source": [
    "###### Import library for storing into binary file"
   ]
  },
  {
   "cell_type": "code",
   "execution_count": 5,
   "id": "bdf7df1f",
   "metadata": {},
   "outputs": [],
   "source": [
    "import pickle"
   ]
  },
  {
   "cell_type": "markdown",
   "id": "e55e0078",
   "metadata": {},
   "source": [
    "###### Load data source into dataframe"
   ]
  },
  {
   "cell_type": "code",
   "execution_count": 6,
   "id": "a0efe5aa",
   "metadata": {},
   "outputs": [
    {
     "data": {
      "text/html": [
       "<div>\n",
       "<style scoped>\n",
       "    .dataframe tbody tr th:only-of-type {\n",
       "        vertical-align: middle;\n",
       "    }\n",
       "\n",
       "    .dataframe tbody tr th {\n",
       "        vertical-align: top;\n",
       "    }\n",
       "\n",
       "    .dataframe thead th {\n",
       "        text-align: right;\n",
       "    }\n",
       "</style>\n",
       "<table border=\"1\" class=\"dataframe\">\n",
       "  <thead>\n",
       "    <tr style=\"text-align: right;\">\n",
       "      <th></th>\n",
       "      <th>Q</th>\n",
       "      <th>A</th>\n",
       "    </tr>\n",
       "  </thead>\n",
       "  <tbody>\n",
       "    <tr>\n",
       "      <th>0</th>\n",
       "      <td>What is kandi?</td>\n",
       "      <td>kandi (pronounced kandee) is a platform that helps developers pick the right library, package, code samples, APIs, and cloud functions, by analyzing over 430 million knowledge items.</td>\n",
       "    </tr>\n",
       "    <tr>\n",
       "      <th>1</th>\n",
       "      <td>Have feedback or want to know more?</td>\n",
       "      <td>We are a passionate set of application focused techies. Wed love to hear from you on your feedback, questions, and any other comments.\\nDirect Message us on Twitter Message @OpenWeaverInc\\nYou can email us at kandi.support@openweaver.com\\nJoin our Discord community here</td>\n",
       "    </tr>\n",
       "    <tr>\n",
       "      <th>2</th>\n",
       "      <td>What components does kandi cover?</td>\n",
       "      <td>kandi helps you select software components across:\\nPackages from all package managers and repositories\\nSource Code across all major code repositories\\nCloud Functions and APIs across all hyperscale cloud providers</td>\n",
       "    </tr>\n",
       "    <tr>\n",
       "      <th>3</th>\n",
       "      <td>How do I use kandi?</td>\n",
       "      <td>kandi provides two simplified experiences to help you choose the right software component to accelerate your application development:\\n\\n1. Search\\nYou can search for the component using natural language to describe your functional and technical requirements, and kandi gets to work by matching these over 430 million knowledge items to show you a shortlist.\\nYou can further filter them or refine your query and pick your chosen ones based on scores available on the component listing page.\\nClick on the components from the list to review detailed insights such as support, quality, security, and a reference guide covering code snippets, community discussions from the provider, and popular channels.\\nThe component listing and detailed insights page have links to the software component home. Some software components may have multiple providers, and you can access all the links.\\n\\n2. Explore\\nYou can Explore kandi curated sections across Popular Collections, Hot Tech, and Industry Domains from the Home Page or the Explore Page. These sections list the popular components among your peers, have functional relevance, and positive security, quality, and support scores in the respective areas.\\nYou can browse these sections to get industry insights.\\nYou can further filter them and pick your chosen ones based on scores available on the component listing page.\\nClick on the components from the list to review detailed insights such as support, quality, security, and a reference guide covering code snippets, community discussions from the provider, and popular channels.\\nThe component listing and detailed insights page have links to the software component home. Some software components may have multiple providers, and you can access all the links.</td>\n",
       "    </tr>\n",
       "    <tr>\n",
       "      <th>4</th>\n",
       "      <td>How do I shortlist components on kandi?</td>\n",
       "      <td>You can use the below filters to shortlist components based on your architectural preferences:\\n\\nLanguages  This is an expanding list of languages chosen by popularity amongst kandi users.\\nLicenses  Licenses are grouped by:\\n\\nOSS License families, covering Permissive, Weak Copyleft, and Strong Copyleft.\\nProprietary license category covering the emerging cloud licenses as well as As-a-Service contracts.\\nNo License indicates that the respective repository does not have the license file declared as per the repository managers standard. They could still have a license file declared in a different format or section. Components without a license have all rights reserved, and you may not be able to use them. Hence kandi alerts you when a valid license file is not found.\\n\\nSupport  High support indicates a thriving ecosystem across the author and users, that will help you implement with relative ease.\\nComponent Types  Component Types are grouped by:\\n\\nLibraries from package managers and repositories that can be readily installed.\\nSource Code that may or may not be associated with a package and are from code repositories.\\nCloud Functions and APIs that are provided As-a-Service from cloud providers.\\n\\nSources  This is an expanding list of software component sources chosen by popularity amongst kandi users.\\nIndustries  This indicates the industry domain that the component has been associated with or could be used in, for specific use cases.\\nSecurity  This reflects the security score of the software component across reported and code-based vulnerabilities.</td>\n",
       "    </tr>\n",
       "    <tr>\n",
       "      <th>5</th>\n",
       "      <td>How do I implement the components that I have selected on kandi?</td>\n",
       "      <td>The component listing and detailed insights page have links to the software component home. Some software components may have multiple providers, and you can access all the links.\\nYou can follow implementation instructions from the software component home page based on the component type.</td>\n",
       "    </tr>\n",
       "  </tbody>\n",
       "</table>\n",
       "</div>"
      ],
      "text/plain": [
       "                                                                  Q  \\\n",
       "0                                                    What is kandi?   \n",
       "1                               Have feedback or want to know more?   \n",
       "2                                 What components does kandi cover?   \n",
       "3                                               How do I use kandi?   \n",
       "4                           How do I shortlist components on kandi?   \n",
       "5  How do I implement the components that I have selected on kandi?   \n",
       "\n",
       "                                                                                                                                                                                                                                                                                                                                                                                                                                                                                                                                                                                                                                                                                                                                                                                                                                                                                                                                                                                                                                                                                                                                                                                                                                                                                                                                                                                                                                                                                                                                                                                                                                                                                                                                                                                                                                     A  \n",
       "0                                                                                                                                                                                                                                                                                                                                                                                                                                                                                                                                                                                                                                                                                                                                                                                                                                                                                                                                                                                                                                                                                                                                                                                                                                                                                                                                                                                                                                                                                                                                                                                                                                               kandi (pronounced kandee) is a platform that helps developers pick the right library, package, code samples, APIs, and cloud functions, by analyzing over 430 million knowledge items.  \n",
       "1                                                                                                                                                                                                                                                                                                                                                                                                                                                                                                                                                                                                                                                                                                                                                                                                                                                                                                                                                                                                                                                                                                                                                                                                                                                                                                                                                                                                                                                                                                                                                       We are a passionate set of application focused techies. Wed love to hear from you on your feedback, questions, and any other comments.\\nDirect Message us on Twitter Message @OpenWeaverInc\\nYou can email us at kandi.support@openweaver.com\\nJoin our Discord community here  \n",
       "2                                                                                                                                                                                                                                                                                                                                                                                                                                                                                                                                                                                                                                                                                                                                                                                                                                                                                                                                                                                                                                                                                                                                                                                                                                                                                                                                                                                                                                                                                                                                                                                                              kandi helps you select software components across:\\nPackages from all package managers and repositories\\nSource Code across all major code repositories\\nCloud Functions and APIs across all hyperscale cloud providers  \n",
       "3  kandi provides two simplified experiences to help you choose the right software component to accelerate your application development:\\n\\n1. Search\\nYou can search for the component using natural language to describe your functional and technical requirements, and kandi gets to work by matching these over 430 million knowledge items to show you a shortlist.\\nYou can further filter them or refine your query and pick your chosen ones based on scores available on the component listing page.\\nClick on the components from the list to review detailed insights such as support, quality, security, and a reference guide covering code snippets, community discussions from the provider, and popular channels.\\nThe component listing and detailed insights page have links to the software component home. Some software components may have multiple providers, and you can access all the links.\\n\\n2. Explore\\nYou can Explore kandi curated sections across Popular Collections, Hot Tech, and Industry Domains from the Home Page or the Explore Page. These sections list the popular components among your peers, have functional relevance, and positive security, quality, and support scores in the respective areas.\\nYou can browse these sections to get industry insights.\\nYou can further filter them and pick your chosen ones based on scores available on the component listing page.\\nClick on the components from the list to review detailed insights such as support, quality, security, and a reference guide covering code snippets, community discussions from the provider, and popular channels.\\nThe component listing and detailed insights page have links to the software component home. Some software components may have multiple providers, and you can access all the links.  \n",
       "4                                                                                                                                                                                      You can use the below filters to shortlist components based on your architectural preferences:\\n\\nLanguages  This is an expanding list of languages chosen by popularity amongst kandi users.\\nLicenses  Licenses are grouped by:\\n\\nOSS License families, covering Permissive, Weak Copyleft, and Strong Copyleft.\\nProprietary license category covering the emerging cloud licenses as well as As-a-Service contracts.\\nNo License indicates that the respective repository does not have the license file declared as per the repository managers standard. They could still have a license file declared in a different format or section. Components without a license have all rights reserved, and you may not be able to use them. Hence kandi alerts you when a valid license file is not found.\\n\\nSupport  High support indicates a thriving ecosystem across the author and users, that will help you implement with relative ease.\\nComponent Types  Component Types are grouped by:\\n\\nLibraries from package managers and repositories that can be readily installed.\\nSource Code that may or may not be associated with a package and are from code repositories.\\nCloud Functions and APIs that are provided As-a-Service from cloud providers.\\n\\nSources  This is an expanding list of software component sources chosen by popularity amongst kandi users.\\nIndustries  This indicates the industry domain that the component has been associated with or could be used in, for specific use cases.\\nSecurity  This reflects the security score of the software component across reported and code-based vulnerabilities.  \n",
       "5                                                                                                                                                                                                                                                                                                                                                                                                                                                                                                                                                                                                                                                                                                                                                                                                                                                                                                                                                                                                                                                                                                                                                                                                                                                                                                                                                                                                                                                                                                                                   The component listing and detailed insights page have links to the software component home. Some software components may have multiple providers, and you can access all the links.\\nYou can follow implementation instructions from the software component home page based on the component type.  "
      ]
     },
     "execution_count": 6,
     "metadata": {},
     "output_type": "execute_result"
    }
   ],
   "source": [
    "DATA_SOURCE_PATH = r\"faqs.csv\"\n",
    "df = pd.read_csv(DATA_SOURCE_PATH, encoding_errors=\"ignore\")\n",
    "pd.set_option('display.max_colwidth', None)\n",
    "df"
   ]
  },
  {
   "cell_type": "markdown",
   "id": "3e055f72",
   "metadata": {},
   "source": [
    "###### Cleanse data by removing numbers and punctutation\n",
    "This process is part of pre-processing that aids in getting rid of unnecessary text, which would otherwise hinder the learning process of the model. Techniques like stemming, lemmatisation can also help here.\n",
    "\n",
    "As we're using sentence embedding, we wouldn't be doing extensive pre-processing here. The pre-processing complexity decreases with increase in the quality of the dataset"
   ]
  },
  {
   "cell_type": "code",
   "execution_count": 7,
   "id": "75dd472e",
   "metadata": {},
   "outputs": [
    {
     "name": "stderr",
     "output_type": "stream",
     "text": [
      "d:\\program files\\python39\\lib\\site-packages\\lingualytics\\preprocessing.py:9: FutureWarning: The default value of regex will change from True to False in a future version.\n",
      "  return s.str.replace(rf\"([{punctuation}])+\", \" \")\n"
     ]
    },
    {
     "data": {
      "text/html": [
       "<div>\n",
       "<style scoped>\n",
       "    .dataframe tbody tr th:only-of-type {\n",
       "        vertical-align: middle;\n",
       "    }\n",
       "\n",
       "    .dataframe tbody tr th {\n",
       "        vertical-align: top;\n",
       "    }\n",
       "\n",
       "    .dataframe thead th {\n",
       "        text-align: right;\n",
       "    }\n",
       "</style>\n",
       "<table border=\"1\" class=\"dataframe\">\n",
       "  <thead>\n",
       "    <tr style=\"text-align: right;\">\n",
       "      <th></th>\n",
       "      <th>Q</th>\n",
       "      <th>A</th>\n",
       "      <th>procd_Q</th>\n",
       "    </tr>\n",
       "  </thead>\n",
       "  <tbody>\n",
       "    <tr>\n",
       "      <th>0</th>\n",
       "      <td>What is kandi?</td>\n",
       "      <td>kandi (pronounced kandee) is a platform that helps developers pick the right library, package, code samples, APIs, and cloud functions, by analyzing over 430 million knowledge items.</td>\n",
       "      <td>What is kandi</td>\n",
       "    </tr>\n",
       "    <tr>\n",
       "      <th>1</th>\n",
       "      <td>Have feedback or want to know more?</td>\n",
       "      <td>We are a passionate set of application focused techies. Wed love to hear from you on your feedback, questions, and any other comments.\\nDirect Message us on Twitter Message @OpenWeaverInc\\nYou can email us at kandi.support@openweaver.com\\nJoin our Discord community here</td>\n",
       "      <td>Have feedback or want to know more</td>\n",
       "    </tr>\n",
       "    <tr>\n",
       "      <th>2</th>\n",
       "      <td>What components does kandi cover?</td>\n",
       "      <td>kandi helps you select software components across:\\nPackages from all package managers and repositories\\nSource Code across all major code repositories\\nCloud Functions and APIs across all hyperscale cloud providers</td>\n",
       "      <td>What components does kandi cover</td>\n",
       "    </tr>\n",
       "    <tr>\n",
       "      <th>3</th>\n",
       "      <td>How do I use kandi?</td>\n",
       "      <td>kandi provides two simplified experiences to help you choose the right software component to accelerate your application development:\\n\\n1. Search\\nYou can search for the component using natural language to describe your functional and technical requirements, and kandi gets to work by matching these over 430 million knowledge items to show you a shortlist.\\nYou can further filter them or refine your query and pick your chosen ones based on scores available on the component listing page.\\nClick on the components from the list to review detailed insights such as support, quality, security, and a reference guide covering code snippets, community discussions from the provider, and popular channels.\\nThe component listing and detailed insights page have links to the software component home. Some software components may have multiple providers, and you can access all the links.\\n\\n2. Explore\\nYou can Explore kandi curated sections across Popular Collections, Hot Tech, and Industry Domains from the Home Page or the Explore Page. These sections list the popular components among your peers, have functional relevance, and positive security, quality, and support scores in the respective areas.\\nYou can browse these sections to get industry insights.\\nYou can further filter them and pick your chosen ones based on scores available on the component listing page.\\nClick on the components from the list to review detailed insights such as support, quality, security, and a reference guide covering code snippets, community discussions from the provider, and popular channels.\\nThe component listing and detailed insights page have links to the software component home. Some software components may have multiple providers, and you can access all the links.</td>\n",
       "      <td>How do I use kandi</td>\n",
       "    </tr>\n",
       "    <tr>\n",
       "      <th>4</th>\n",
       "      <td>How do I shortlist components on kandi?</td>\n",
       "      <td>You can use the below filters to shortlist components based on your architectural preferences:\\n\\nLanguages  This is an expanding list of languages chosen by popularity amongst kandi users.\\nLicenses  Licenses are grouped by:\\n\\nOSS License families, covering Permissive, Weak Copyleft, and Strong Copyleft.\\nProprietary license category covering the emerging cloud licenses as well as As-a-Service contracts.\\nNo License indicates that the respective repository does not have the license file declared as per the repository managers standard. They could still have a license file declared in a different format or section. Components without a license have all rights reserved, and you may not be able to use them. Hence kandi alerts you when a valid license file is not found.\\n\\nSupport  High support indicates a thriving ecosystem across the author and users, that will help you implement with relative ease.\\nComponent Types  Component Types are grouped by:\\n\\nLibraries from package managers and repositories that can be readily installed.\\nSource Code that may or may not be associated with a package and are from code repositories.\\nCloud Functions and APIs that are provided As-a-Service from cloud providers.\\n\\nSources  This is an expanding list of software component sources chosen by popularity amongst kandi users.\\nIndustries  This indicates the industry domain that the component has been associated with or could be used in, for specific use cases.\\nSecurity  This reflects the security score of the software component across reported and code-based vulnerabilities.</td>\n",
       "      <td>How do I shortlist components on kandi</td>\n",
       "    </tr>\n",
       "    <tr>\n",
       "      <th>5</th>\n",
       "      <td>How do I implement the components that I have selected on kandi?</td>\n",
       "      <td>The component listing and detailed insights page have links to the software component home. Some software components may have multiple providers, and you can access all the links.\\nYou can follow implementation instructions from the software component home page based on the component type.</td>\n",
       "      <td>How do I implement the components that I have selected on kandi</td>\n",
       "    </tr>\n",
       "  </tbody>\n",
       "</table>\n",
       "</div>"
      ],
      "text/plain": [
       "                                                                  Q  \\\n",
       "0                                                    What is kandi?   \n",
       "1                               Have feedback or want to know more?   \n",
       "2                                 What components does kandi cover?   \n",
       "3                                               How do I use kandi?   \n",
       "4                           How do I shortlist components on kandi?   \n",
       "5  How do I implement the components that I have selected on kandi?   \n",
       "\n",
       "                                                                                                                                                                                                                                                                                                                                                                                                                                                                                                                                                                                                                                                                                                                                                                                                                                                                                                                                                                                                                                                                                                                                                                                                                                                                                                                                                                                                                                                                                                                                                                                                                                                                                                                                                                                                                                     A  \\\n",
       "0                                                                                                                                                                                                                                                                                                                                                                                                                                                                                                                                                                                                                                                                                                                                                                                                                                                                                                                                                                                                                                                                                                                                                                                                                                                                                                                                                                                                                                                                                                                                                                                                                                               kandi (pronounced kandee) is a platform that helps developers pick the right library, package, code samples, APIs, and cloud functions, by analyzing over 430 million knowledge items.   \n",
       "1                                                                                                                                                                                                                                                                                                                                                                                                                                                                                                                                                                                                                                                                                                                                                                                                                                                                                                                                                                                                                                                                                                                                                                                                                                                                                                                                                                                                                                                                                                                                                       We are a passionate set of application focused techies. Wed love to hear from you on your feedback, questions, and any other comments.\\nDirect Message us on Twitter Message @OpenWeaverInc\\nYou can email us at kandi.support@openweaver.com\\nJoin our Discord community here   \n",
       "2                                                                                                                                                                                                                                                                                                                                                                                                                                                                                                                                                                                                                                                                                                                                                                                                                                                                                                                                                                                                                                                                                                                                                                                                                                                                                                                                                                                                                                                                                                                                                                                                              kandi helps you select software components across:\\nPackages from all package managers and repositories\\nSource Code across all major code repositories\\nCloud Functions and APIs across all hyperscale cloud providers   \n",
       "3  kandi provides two simplified experiences to help you choose the right software component to accelerate your application development:\\n\\n1. Search\\nYou can search for the component using natural language to describe your functional and technical requirements, and kandi gets to work by matching these over 430 million knowledge items to show you a shortlist.\\nYou can further filter them or refine your query and pick your chosen ones based on scores available on the component listing page.\\nClick on the components from the list to review detailed insights such as support, quality, security, and a reference guide covering code snippets, community discussions from the provider, and popular channels.\\nThe component listing and detailed insights page have links to the software component home. Some software components may have multiple providers, and you can access all the links.\\n\\n2. Explore\\nYou can Explore kandi curated sections across Popular Collections, Hot Tech, and Industry Domains from the Home Page or the Explore Page. These sections list the popular components among your peers, have functional relevance, and positive security, quality, and support scores in the respective areas.\\nYou can browse these sections to get industry insights.\\nYou can further filter them and pick your chosen ones based on scores available on the component listing page.\\nClick on the components from the list to review detailed insights such as support, quality, security, and a reference guide covering code snippets, community discussions from the provider, and popular channels.\\nThe component listing and detailed insights page have links to the software component home. Some software components may have multiple providers, and you can access all the links.   \n",
       "4                                                                                                                                                                                      You can use the below filters to shortlist components based on your architectural preferences:\\n\\nLanguages  This is an expanding list of languages chosen by popularity amongst kandi users.\\nLicenses  Licenses are grouped by:\\n\\nOSS License families, covering Permissive, Weak Copyleft, and Strong Copyleft.\\nProprietary license category covering the emerging cloud licenses as well as As-a-Service contracts.\\nNo License indicates that the respective repository does not have the license file declared as per the repository managers standard. They could still have a license file declared in a different format or section. Components without a license have all rights reserved, and you may not be able to use them. Hence kandi alerts you when a valid license file is not found.\\n\\nSupport  High support indicates a thriving ecosystem across the author and users, that will help you implement with relative ease.\\nComponent Types  Component Types are grouped by:\\n\\nLibraries from package managers and repositories that can be readily installed.\\nSource Code that may or may not be associated with a package and are from code repositories.\\nCloud Functions and APIs that are provided As-a-Service from cloud providers.\\n\\nSources  This is an expanding list of software component sources chosen by popularity amongst kandi users.\\nIndustries  This indicates the industry domain that the component has been associated with or could be used in, for specific use cases.\\nSecurity  This reflects the security score of the software component across reported and code-based vulnerabilities.   \n",
       "5                                                                                                                                                                                                                                                                                                                                                                                                                                                                                                                                                                                                                                                                                                                                                                                                                                                                                                                                                                                                                                                                                                                                                                                                                                                                                                                                                                                                                                                                                                                                   The component listing and detailed insights page have links to the software component home. Some software components may have multiple providers, and you can access all the links.\\nYou can follow implementation instructions from the software component home page based on the component type.   \n",
       "\n",
       "                                                            procd_Q  \n",
       "0                                                    What is kandi   \n",
       "1                               Have feedback or want to know more   \n",
       "2                                 What components does kandi cover   \n",
       "3                                               How do I use kandi   \n",
       "4                           How do I shortlist components on kandi   \n",
       "5  How do I implement the components that I have selected on kandi   "
      ]
     },
     "execution_count": 7,
     "metadata": {},
     "output_type": "execute_result"
    }
   ],
   "source": [
    "df['procd_Q'] = df['Q'].pipe(remove_digits).pipe(remove_punctuation)#.pipe(remove_lessthan,length=3)\\\n",
    "                                                    #.pipe(remove_stopwords,stopwords=en_stopwords.union(hi_stopwords))\n",
    "df"
   ]
  },
  {
   "cell_type": "markdown",
   "id": "5a6707c1",
   "metadata": {},
   "source": [
    "###### Load sentence transformer model of your choice for getting sentence embeddings\n",
    "The model can be chosen by considering various aspects and comparing available models from this link.\n",
    "https://www.sbert.net/docs/pretrained_models.html"
   ]
  },
  {
   "cell_type": "code",
   "execution_count": 8,
   "id": "0b3f0df3",
   "metadata": {},
   "outputs": [],
   "source": [
    "model = SentenceTransformer('paraphrase-MiniLM-L6-v2')"
   ]
  },
  {
   "cell_type": "markdown",
   "id": "95792fea",
   "metadata": {},
   "source": [
    "###### Find embeddings of sentences and store in a binary file\n",
    "\n",
    "The binary file storage helps to load and use embeddings later without having the need to computing them again. We use pickle here to store in binary files. You may also use joblib"
   ]
  },
  {
   "cell_type": "code",
   "execution_count": 9,
   "id": "58dc65a4",
   "metadata": {},
   "outputs": [],
   "source": [
    "MODEL_PATH = r\"models/model_va.pickle\"\n",
    "q_embs = model.encode(df[\"procd_Q\"]) # computes encode for all the questions from the dataset. \n",
    "                                    #Embeddings can be computed in batches for massive dataset.\n",
    "with open(MODEL_PATH, \"wb\") as file:\n",
    "    pickle.dump(q_embs, file)"
   ]
  },
  {
   "cell_type": "markdown",
   "id": "79495663",
   "metadata": {},
   "source": [
    "###### Load embeddings from binary file into memory"
   ]
  },
  {
   "cell_type": "code",
   "execution_count": 10,
   "id": "c3ab0da3",
   "metadata": {},
   "outputs": [],
   "source": [
    "with open(r\"models/model_va.pickle\", \"rb\") as file:\n",
    "    q_embs = pickle.load(file)"
   ]
  },
  {
   "cell_type": "markdown",
   "id": "3b4669a7",
   "metadata": {},
   "source": [
    "###### Predict answer to user query\n",
    "The user query is cleansed and pre-processed as earlier, and then a matching query from data source is predicted. The predicted query is used to look up to find corresponding answer"
   ]
  },
  {
   "cell_type": "code",
   "execution_count": 11,
   "id": "3f4291bc",
   "metadata": {},
   "outputs": [],
   "source": [
    "def pred_answer(usr_query):\n",
    "    df_query = pd.DataFrame([usr_query], columns=[\"usr_query\"]) # use similar pipeline that was used for computing embeddings from dataset\n",
    "    df_query[\"clean_usr_q\"] = df_query[\"usr_query\"].pipe(remove_digits).pipe(remove_punctuation)\n",
    "    usr_q_emb = model.encode(df_query[\"clean_usr_q\"]) # compute embedding\n",
    "    cosine_similarity = CosineSimilarity()\n",
    "    q_idx = np.argmax(cosine_similarity(torch.from_numpy(usr_q_emb), torch.from_numpy(q_embs))) # compute cosine similarity and find the matched query\n",
    "    return df[\"A\"][q_idx.item()] # look up answer of the matched query from the dataframe of input dataset"
   ]
  },
  {
   "cell_type": "code",
   "execution_count": 12,
   "id": "6af511bc",
   "metadata": {},
   "outputs": [],
   "source": [
    "usr_query = \"tell me about kandi\""
   ]
  },
  {
   "cell_type": "code",
   "execution_count": 13,
   "id": "90c426c1",
   "metadata": {
    "scrolled": true
   },
   "outputs": [
    {
     "name": "stdout",
     "output_type": "stream",
     "text": [
      "kandi (pronounced kandee) is a platform that helps developers pick the right library, package, code samples, APIs, and cloud functions, by analyzing over 430 million knowledge items.\n"
     ]
    },
    {
     "name": "stderr",
     "output_type": "stream",
     "text": [
      "d:\\program files\\python39\\lib\\site-packages\\lingualytics\\preprocessing.py:9: FutureWarning: The default value of regex will change from True to False in a future version.\n",
      "  return s.str.replace(rf\"([{punctuation}])+\", \" \")\n"
     ]
    }
   ],
   "source": [
    "pred_answer(usr_query)"
   ]
  },
  {
   "cell_type": "markdown",
   "id": "85633782",
   "metadata": {},
   "source": [
    "###### Simulating Virtual Agent"
   ]
  },
  {
   "cell_type": "code",
   "execution_count": 14,
   "id": "2723d8b5",
   "metadata": {},
   "outputs": [
    {
     "name": "stdout",
     "output_type": "stream",
     "text": [
      "Ask a query:tell me about kandi\n",
      "usr query is:  tell me about kandi\n",
      "kandi (pronounced kandee) is a platform that helps developers pick the right library, package, code samples, APIs, and cloud functions, by analyzing over 430 million knowledge items.\n",
      "-----------------\n",
      "Ask a query:components in kandi\n",
      "usr query is:  components in kandi\n",
      "kandi helps you select software components across:\n",
      "Packages from all package managers and repositories\n",
      "Source Code across all major code repositories\n",
      "Cloud Functions and APIs across all hyperscale cloud providers\n",
      "-----------------\n",
      "Ask a query:exit\n",
      "usr query is:  exit\n"
     ]
    }
   ],
   "source": [
    "while True:\n",
    "    usr_q = input(\"Ask a query:\")\n",
    "    if usr_q == \"exit\":\n",
    "        break\n",
    "    else:\n",
    "        print(\"Answer: \", pred_answer(usr_q))\n",
    "    print(\"-----------------\")"
   ]
  },
  {
   "cell_type": "code",
   "execution_count": null,
   "id": "0a061aae",
   "metadata": {},
   "outputs": [],
   "source": []
  }
 ],
 "metadata": {
  "kernelspec": {
   "display_name": "Python 3 (ipykernel)",
   "language": "python",
   "name": "python3"
  },
  "language_info": {
   "codemirror_mode": {
    "name": "ipython",
    "version": 3
   },
   "file_extension": ".py",
   "mimetype": "text/x-python",
   "name": "python",
   "nbconvert_exporter": "python",
   "pygments_lexer": "ipython3",
   "version": "3.9.6"
  }
 },
 "nbformat": 4,
 "nbformat_minor": 5
}
